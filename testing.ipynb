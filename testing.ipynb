{
 "cells": [
  {
   "cell_type": "code",
   "execution_count": 1,
   "id": "e364044a",
   "metadata": {},
   "outputs": [],
   "source": [
    "from approximating_maxima import Approximator\n",
    "from approximating_maxima import radius_of_information\n",
    "import random\n",
    "import copy\n",
    "import time\n",
    "random.seed(47)"
   ]
  },
  {
   "cell_type": "code",
   "execution_count": 2,
   "id": "c3115de1",
   "metadata": {},
   "outputs": [],
   "source": [
    "base=Approximator([-5,6],4,sample_function='4*math.cos(x)')\n",
    "\n",
    "base.add_n_points(4,function_type='random')"
   ]
  },
  {
   "cell_type": "markdown",
   "id": "78e4ba1e",
   "metadata": {},
   "source": [
    "We will test whether the method given is really optimal.  First we obtain the optimal results."
   ]
  },
  {
   "cell_type": "code",
   "execution_count": 3,
   "id": "75978184",
   "metadata": {},
   "outputs": [],
   "source": [
    "optimal=copy.deepcopy(base)\n",
    "optimal.add_n_points(10,function_type='optimal',adaptive=False)\n",
    "optimal_roi=radius_of_information(optimal.max_possible_y,optimal.max_y)"
   ]
  },
  {
   "cell_type": "code",
   "execution_count": 4,
   "id": "ceb6383c",
   "metadata": {},
   "outputs": [
    {
     "data": {
      "text/plain": [
       "0.6309398274521438"
      ]
     },
     "execution_count": 4,
     "metadata": {},
     "output_type": "execute_result"
    }
   ],
   "source": [
    "optimal_roi"
   ]
  },
  {
   "cell_type": "markdown",
   "id": "ca844040",
   "metadata": {},
   "source": [
    "Next we see if a randomly chosen set of chosen $x$ values could produce a better approximation."
   ]
  },
  {
   "cell_type": "code",
   "execution_count": 5,
   "id": "96658a62",
   "metadata": {},
   "outputs": [
    {
     "name": "stdout",
     "output_type": "stream",
     "text": [
      "1 minutes have elapsed and 52408 tests have been completed.\n",
      "2 minutes have elapsed and 104822 tests have been completed.\n",
      "3 minutes have elapsed and 157463 tests have been completed.\n",
      "4 minutes have elapsed and 209926 tests have been completed.\n",
      "5 minutes have elapsed and 262440 tests have been completed.\n",
      "6 minutes have elapsed and 306809 tests have been completed.\n",
      "7 minutes have elapsed and 355482 tests have been completed.\n",
      "8 minutes have elapsed and 396121 tests have been completed.\n",
      "9 minutes have elapsed and 441429 tests have been completed.\n",
      "10 minutes have elapsed and 489269 tests have been completed.\n",
      "11 minutes have elapsed and 538903 tests have been completed.\n",
      "12 minutes have elapsed and 588773 tests have been completed.\n",
      "13 minutes have elapsed and 639069 tests have been completed.\n",
      "14 minutes have elapsed and 689396 tests have been completed.\n",
      "15 minutes have elapsed and 739410 tests have been completed.\n",
      "16 minutes have elapsed and 790051 tests have been completed.\n",
      "17 minutes have elapsed and 833717 tests have been completed.\n",
      "18 minutes have elapsed and 877316 tests have been completed.\n",
      "19 minutes have elapsed and 920150 tests have been completed.\n",
      "20 minutes have elapsed and 966763 tests have been completed.\n"
     ]
    }
   ],
   "source": [
    "# Set the number of tests to run.\n",
    "number_of_tests=1000000\n",
    "# Store failed tests.\n",
    "failed_tests=[]\n",
    "minutes_passed=0\n",
    "\n",
    "start_time=time.time()\n",
    "\n",
    "for i in range(number_of_tests):\n",
    "    time_passed=int((time.time()-start_time)//60)\n",
    "    if time_passed>minutes_passed:\n",
    "        print(f\"{time_passed} minutes have elapsed and {i-1} tests have been completed.\")\n",
    "        minutes_passed=time_passed\n",
    "\n",
    "    test=copy.deepcopy(base)\n",
    "    x_to_add=[]\n",
    "    while len(x_to_add)<10:\n",
    "        new_x=random.uniform(-5,6)\n",
    "        if new_x not in base.known_x and new_x not in x_to_add:\n",
    "            x_to_add.append(new_x)\n",
    "            \n",
    "    test.add_points_manually(function_type='optimal',user_x=x_to_add)\n",
    "    test_roi=radius_of_information(test.max_possible_y,test.max_y)\n",
    "    if test_roi<optimal_roi:\n",
    "        print(\"A better set of x was detected.\")\n",
    "        failed_tests.append(test)\n"
   ]
  },
  {
   "cell_type": "code",
   "execution_count": 6,
   "id": "c5d65d2c",
   "metadata": {},
   "outputs": [
    {
     "name": "stdout",
     "output_type": "stream",
     "text": [
      "[]\n",
      "No tests could beat the optimal method.\n"
     ]
    }
   ],
   "source": [
    "print(failed_tests)\n",
    "\n",
    "if len(failed_tests)==0:\n",
    "    print(\"No tests could beat the optimal method.\")"
   ]
  }
 ],
 "metadata": {
  "kernelspec": {
   "display_name": "Python 3",
   "language": "python",
   "name": "python3"
  },
  "language_info": {
   "codemirror_mode": {
    "name": "ipython",
    "version": 3
   },
   "file_extension": ".py",
   "mimetype": "text/x-python",
   "name": "python",
   "nbconvert_exporter": "python",
   "pygments_lexer": "ipython3",
   "version": "3.11.3"
  }
 },
 "nbformat": 4,
 "nbformat_minor": 5
}
